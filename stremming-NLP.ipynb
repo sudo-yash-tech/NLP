{
 "cells": [
  {
   "cell_type": "markdown",
   "metadata": {},
   "source": [
    "Text Preprocessing Steamming Using NLTK"
   ]
  },
  {
   "cell_type": "code",
   "execution_count": 1,
   "metadata": {},
   "outputs": [],
   "source": [
    "###Classification Problem\n",
    "###Comments of product reviews are classified as positive or negative\n",
    "###rReviews--->eating,eats,eaten, going, gone, goes"
   ]
  },
  {
   "cell_type": "code",
   "execution_count": 2,
   "metadata": {},
   "outputs": [],
   "source": [
    "words = ['eating','eats','eaten','going','gone','goes', 'writting', 'writes', 'written', 'writing', 'programing', 'programs', 'history', 'finally', 'final', 'finals', 'finalized', 'finalizing', 'finalization', 'finalist', 'finalists', 'finality']"
   ]
  },
  {
   "cell_type": "code",
   "execution_count": 3,
   "metadata": {},
   "outputs": [
    {
     "name": "stdout",
     "output_type": "stream",
     "text": [
      "eating ---> eat\n",
      "eats ---> eat\n",
      "eaten ---> eaten\n",
      "going ---> go\n",
      "gone ---> gone\n",
      "goes ---> goe\n",
      "writting ---> writ\n",
      "writes ---> write\n",
      "written ---> written\n",
      "writing ---> write\n",
      "programing ---> program\n",
      "programs ---> program\n",
      "history ---> histori\n",
      "finally ---> final\n",
      "final ---> final\n",
      "finals ---> final\n",
      "finalized ---> final\n",
      "finalizing ---> final\n",
      "finalization ---> final\n",
      "finalist ---> finalist\n",
      "finalists ---> finalist\n",
      "finality ---> final\n"
     ]
    }
   ],
   "source": [
    "#Poter Stemmer\n",
    "from nltk.stem import PorterStemmer\n",
    "steamming = PorterStemmer()\n",
    "for word in words:\n",
    "    print(word + ' ---> ' + steamming.stem(word))"
   ]
  },
  {
   "cell_type": "code",
   "execution_count": 4,
   "metadata": {},
   "outputs": [
    {
     "name": "stdout",
     "output_type": "stream",
     "text": [
      "eating ---> eat\n",
      "eats ---> eat\n",
      "eaten ---> eaten\n",
      "going ---> go\n",
      "gone ---> gone\n",
      "goes ---> goe\n",
      "writting ---> writt\n",
      "writes ---> write\n",
      "written ---> written\n",
      "writing ---> writ\n",
      "programing ---> program\n",
      "programs ---> program\n",
      "history ---> history\n",
      "finally ---> finally\n",
      "final ---> final\n",
      "finals ---> final\n",
      "finalized ---> finaliz\n",
      "finalizing ---> finaliz\n",
      "finalization ---> finalization\n",
      "finalist ---> finalist\n",
      "finalists ---> finalist\n",
      "finality ---> finality\n"
     ]
    }
   ],
   "source": [
    "#Regexp Stemmer Class\n",
    "from nltk.stem import RegexpStemmer\n",
    "reg_stemmer = RegexpStemmer('ing$|s$|ed$', min=4)\n",
    "for word in words:\n",
    "    print(word + ' ---> ' + reg_stemmer.stem(word))"
   ]
  },
  {
   "cell_type": "code",
   "execution_count": 5,
   "metadata": {},
   "outputs": [
    {
     "name": "stdout",
     "output_type": "stream",
     "text": [
      "eating ---> eat\n",
      "eats ---> eat\n",
      "eaten ---> eaten\n",
      "going ---> go\n",
      "gone ---> gone\n",
      "goes ---> goe\n",
      "writting ---> writ\n",
      "writes ---> write\n",
      "written ---> written\n",
      "writing ---> write\n",
      "programing ---> program\n",
      "programs ---> program\n",
      "history ---> histori\n",
      "finally ---> final\n",
      "final ---> final\n",
      "finals ---> final\n",
      "finalized ---> final\n",
      "finalizing ---> final\n",
      "finalization ---> final\n",
      "finalist ---> finalist\n",
      "finalists ---> finalist\n",
      "finality ---> final\n"
     ]
    }
   ],
   "source": [
    "#Snowball Stemmer\n",
    "from nltk.stem import SnowballStemmer\n",
    "snowballsteammer = SnowballStemmer('english')\n",
    "for word in words:\n",
    "    print(word + ' ---> ' + snowballsteammer.stem(word))"
   ]
  },
  {
   "cell_type": "code",
   "execution_count": null,
   "metadata": {},
   "outputs": [],
   "source": []
  }
 ],
 "metadata": {
  "kernelspec": {
   "display_name": "Python 3",
   "language": "python",
   "name": "python3"
  },
  "language_info": {
   "codemirror_mode": {
    "name": "ipython",
    "version": 3
   },
   "file_extension": ".py",
   "mimetype": "text/x-python",
   "name": "python",
   "nbconvert_exporter": "python",
   "pygments_lexer": "ipython3",
   "version": "3.13.1"
  }
 },
 "nbformat": 4,
 "nbformat_minor": 2
}
